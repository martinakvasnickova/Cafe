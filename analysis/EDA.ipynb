{
 "cells": [
  {
   "cell_type": "code",
   "execution_count": 59,
   "metadata": {},
   "outputs": [],
   "source": [
    "import pandas as pd\n",
    "import matplotlib.pyplot as plt\n",
    "import seaborn as sns\n",
    "\n",
    "df = pd.read_csv('../dirty_cafe_sales.csv')\n"
   ]
  },
  {
   "cell_type": "markdown",
   "metadata": {},
   "source": [
    "# EDA (Exploratory data analysis)"
   ]
  },
  {
   "cell_type": "markdown",
   "metadata": {},
   "source": [
    "## 1. Introduction\n",
    "\n",
    "### Objective of the analysis\n",
    "\n",
    "The objective of this exploratory data analysis (EDA) is to identify key trends and patterns in the café’s sales. We focus on understanding the factors that influence revenue, such as product popularity, seasonality, and differences in sales across locations and payment methods. The analysis will also serve to uncover potential opportunities to improve operational efficiency and maximize sales.\n",
    "\n",
    "### Context\n",
    "\n",
    "The café is located in an environment where consumer behavior can be influenced by seasonal demand, daily and weekly cycles, and customer preferences. There are many cafés and competition is high, it is crucial to understand how to adapt the offer and operational strategies to appeal to a wide range of customers. The emphasis is not only on increasing sales, but also on providing a quality customer experience.\n",
    "\n",
    "### Data\n",
    "\n",
    "The analyzed data contains 10,000 café transaction records over a certain period of time. Each record includes the following information:\n",
    "\n",
    "- Transaction ID: A unique transaction identifier.\n",
    "- Item: The item the customer purchased (e.g. Coffee, Cake, Smoothie).\n",
    "- Quantity: The number of units purchased.\n",
    "- Price Per Unit: The price per unit of the item.\n",
    "- Total Spent: The total amount spent for the transaction.\n",
    "- Payment Method: The payment method (e.g. Credit Card, Cash, Digital Wallet).\n",
    "- Location: The location where the transaction was made (In-store or Takeaway).\n",
    "- Transaction Date: The date of the transaction.\n",
    "\n",
    "- The dataset also contains invalid values ​​(e.g. ERROR or UNKNOWN) and missing information that must be processed before deeper analysis can be performed. These steps will help ensure that the results are accurate and interpretable."
   ]
  },
  {
   "cell_type": "markdown",
   "metadata": {},
   "source": [
    "## 2. Importing data and first look at the dataset"
   ]
  },
  {
   "cell_type": "code",
   "execution_count": 60,
   "metadata": {},
   "outputs": [
    {
     "data": {
      "text/html": [
       "<div>\n",
       "<style scoped>\n",
       "    .dataframe tbody tr th:only-of-type {\n",
       "        vertical-align: middle;\n",
       "    }\n",
       "\n",
       "    .dataframe tbody tr th {\n",
       "        vertical-align: top;\n",
       "    }\n",
       "\n",
       "    .dataframe thead th {\n",
       "        text-align: right;\n",
       "    }\n",
       "</style>\n",
       "<table border=\"1\" class=\"dataframe\">\n",
       "  <thead>\n",
       "    <tr style=\"text-align: right;\">\n",
       "      <th></th>\n",
       "      <th>Transaction ID</th>\n",
       "      <th>Item</th>\n",
       "      <th>Quantity</th>\n",
       "      <th>Price Per Unit</th>\n",
       "      <th>Total Spent</th>\n",
       "      <th>Payment Method</th>\n",
       "      <th>Location</th>\n",
       "      <th>Transaction Date</th>\n",
       "    </tr>\n",
       "  </thead>\n",
       "  <tbody>\n",
       "    <tr>\n",
       "      <th>0</th>\n",
       "      <td>TXN_1961373</td>\n",
       "      <td>Coffee</td>\n",
       "      <td>2</td>\n",
       "      <td>2.0</td>\n",
       "      <td>4.0</td>\n",
       "      <td>Credit Card</td>\n",
       "      <td>Takeaway</td>\n",
       "      <td>2023-09-08</td>\n",
       "    </tr>\n",
       "    <tr>\n",
       "      <th>1</th>\n",
       "      <td>TXN_4977031</td>\n",
       "      <td>Cake</td>\n",
       "      <td>4</td>\n",
       "      <td>3.0</td>\n",
       "      <td>12.0</td>\n",
       "      <td>Cash</td>\n",
       "      <td>In-store</td>\n",
       "      <td>2023-05-16</td>\n",
       "    </tr>\n",
       "    <tr>\n",
       "      <th>2</th>\n",
       "      <td>TXN_4271903</td>\n",
       "      <td>Cookie</td>\n",
       "      <td>4</td>\n",
       "      <td>1.0</td>\n",
       "      <td>ERROR</td>\n",
       "      <td>Credit Card</td>\n",
       "      <td>In-store</td>\n",
       "      <td>2023-07-19</td>\n",
       "    </tr>\n",
       "    <tr>\n",
       "      <th>3</th>\n",
       "      <td>TXN_7034554</td>\n",
       "      <td>Salad</td>\n",
       "      <td>2</td>\n",
       "      <td>5.0</td>\n",
       "      <td>10.0</td>\n",
       "      <td>UNKNOWN</td>\n",
       "      <td>UNKNOWN</td>\n",
       "      <td>2023-04-27</td>\n",
       "    </tr>\n",
       "    <tr>\n",
       "      <th>4</th>\n",
       "      <td>TXN_3160411</td>\n",
       "      <td>Coffee</td>\n",
       "      <td>2</td>\n",
       "      <td>2.0</td>\n",
       "      <td>4.0</td>\n",
       "      <td>Digital Wallet</td>\n",
       "      <td>In-store</td>\n",
       "      <td>2023-06-11</td>\n",
       "    </tr>\n",
       "    <tr>\n",
       "      <th>5</th>\n",
       "      <td>TXN_2602893</td>\n",
       "      <td>Smoothie</td>\n",
       "      <td>5</td>\n",
       "      <td>4.0</td>\n",
       "      <td>20.0</td>\n",
       "      <td>Credit Card</td>\n",
       "      <td>NaN</td>\n",
       "      <td>2023-03-31</td>\n",
       "    </tr>\n",
       "    <tr>\n",
       "      <th>6</th>\n",
       "      <td>TXN_4433211</td>\n",
       "      <td>UNKNOWN</td>\n",
       "      <td>3</td>\n",
       "      <td>3.0</td>\n",
       "      <td>9.0</td>\n",
       "      <td>ERROR</td>\n",
       "      <td>Takeaway</td>\n",
       "      <td>2023-10-06</td>\n",
       "    </tr>\n",
       "    <tr>\n",
       "      <th>7</th>\n",
       "      <td>TXN_6699534</td>\n",
       "      <td>Sandwich</td>\n",
       "      <td>4</td>\n",
       "      <td>4.0</td>\n",
       "      <td>16.0</td>\n",
       "      <td>Cash</td>\n",
       "      <td>UNKNOWN</td>\n",
       "      <td>2023-10-28</td>\n",
       "    </tr>\n",
       "    <tr>\n",
       "      <th>8</th>\n",
       "      <td>TXN_4717867</td>\n",
       "      <td>NaN</td>\n",
       "      <td>5</td>\n",
       "      <td>3.0</td>\n",
       "      <td>15.0</td>\n",
       "      <td>NaN</td>\n",
       "      <td>Takeaway</td>\n",
       "      <td>2023-07-28</td>\n",
       "    </tr>\n",
       "    <tr>\n",
       "      <th>9</th>\n",
       "      <td>TXN_2064365</td>\n",
       "      <td>Sandwich</td>\n",
       "      <td>5</td>\n",
       "      <td>4.0</td>\n",
       "      <td>20.0</td>\n",
       "      <td>NaN</td>\n",
       "      <td>In-store</td>\n",
       "      <td>2023-12-31</td>\n",
       "    </tr>\n",
       "  </tbody>\n",
       "</table>\n",
       "</div>"
      ],
      "text/plain": [
       "  Transaction ID      Item Quantity Price Per Unit Total Spent  \\\n",
       "0    TXN_1961373    Coffee        2            2.0         4.0   \n",
       "1    TXN_4977031      Cake        4            3.0        12.0   \n",
       "2    TXN_4271903    Cookie        4            1.0       ERROR   \n",
       "3    TXN_7034554     Salad        2            5.0        10.0   \n",
       "4    TXN_3160411    Coffee        2            2.0         4.0   \n",
       "5    TXN_2602893  Smoothie        5            4.0        20.0   \n",
       "6    TXN_4433211   UNKNOWN        3            3.0         9.0   \n",
       "7    TXN_6699534  Sandwich        4            4.0        16.0   \n",
       "8    TXN_4717867       NaN        5            3.0        15.0   \n",
       "9    TXN_2064365  Sandwich        5            4.0        20.0   \n",
       "\n",
       "   Payment Method  Location Transaction Date  \n",
       "0     Credit Card  Takeaway       2023-09-08  \n",
       "1            Cash  In-store       2023-05-16  \n",
       "2     Credit Card  In-store       2023-07-19  \n",
       "3         UNKNOWN   UNKNOWN       2023-04-27  \n",
       "4  Digital Wallet  In-store       2023-06-11  \n",
       "5     Credit Card       NaN       2023-03-31  \n",
       "6           ERROR  Takeaway       2023-10-06  \n",
       "7            Cash   UNKNOWN       2023-10-28  \n",
       "8             NaN  Takeaway       2023-07-28  \n",
       "9             NaN  In-store       2023-12-31  "
      ]
     },
     "execution_count": 60,
     "metadata": {},
     "output_type": "execute_result"
    }
   ],
   "source": [
    "df.head(10)"
   ]
  },
  {
   "cell_type": "markdown",
   "metadata": {},
   "source": [
    "### Desctibtion of dataset"
   ]
  },
  {
   "cell_type": "markdown",
   "metadata": {},
   "source": [
    "- shape"
   ]
  },
  {
   "cell_type": "code",
   "execution_count": 61,
   "metadata": {},
   "outputs": [
    {
     "data": {
      "text/plain": [
       "(10000, 8)"
      ]
     },
     "execution_count": 61,
     "metadata": {},
     "output_type": "execute_result"
    }
   ],
   "source": [
    "df.shape"
   ]
  },
  {
   "cell_type": "markdown",
   "metadata": {},
   "source": [
    "- missing values"
   ]
  },
  {
   "cell_type": "code",
   "execution_count": 62,
   "metadata": {},
   "outputs": [
    {
     "data": {
      "text/plain": [
       "Transaction ID         0\n",
       "Item                 333\n",
       "Quantity             138\n",
       "Price Per Unit       179\n",
       "Total Spent          173\n",
       "Payment Method      2579\n",
       "Location            3265\n",
       "Transaction Date     159\n",
       "dtype: int64"
      ]
     },
     "execution_count": 62,
     "metadata": {},
     "output_type": "execute_result"
    }
   ],
   "source": [
    "df.isnull().sum()"
   ]
  },
  {
   "cell_type": "markdown",
   "metadata": {},
   "source": [
    "-  data types"
   ]
  },
  {
   "cell_type": "code",
   "execution_count": 63,
   "metadata": {},
   "outputs": [
    {
     "data": {
      "text/plain": [
       "Transaction ID      object\n",
       "Item                object\n",
       "Quantity            object\n",
       "Price Per Unit      object\n",
       "Total Spent         object\n",
       "Payment Method      object\n",
       "Location            object\n",
       "Transaction Date    object\n",
       "dtype: object"
      ]
     },
     "execution_count": 63,
     "metadata": {},
     "output_type": "execute_result"
    }
   ],
   "source": [
    "df.dtypes"
   ]
  },
  {
   "cell_type": "code",
   "execution_count": 64,
   "metadata": {},
   "outputs": [
    {
     "data": {
      "text/plain": [
       "Transaction ID              object\n",
       "Item                        object\n",
       "Quantity                   float64\n",
       "Price Per Unit             float64\n",
       "Total Spent                float64\n",
       "Payment Method              object\n",
       "Location                    object\n",
       "Transaction Date    datetime64[ns]\n",
       "dtype: object"
      ]
     },
     "execution_count": 64,
     "metadata": {},
     "output_type": "execute_result"
    }
   ],
   "source": [
    "df['Quantity'] = pd.to_numeric(df['Quantity'], errors='coerce')\n",
    "df['Price Per Unit'] = pd.to_numeric(df['Price Per Unit'], errors='coerce')\n",
    "df['Total Spent'] = pd.to_numeric(df['Quantity'], errors='coerce')\n",
    "df['Transaction Date'] = pd.to_datetime(df['Transaction Date'], errors='coerce')\n",
    "df.dtypes"
   ]
  },
  {
   "cell_type": "markdown",
   "metadata": {},
   "source": [
    "### Data quality"
   ]
  },
  {
   "cell_type": "markdown",
   "metadata": {},
   "source": [
    "- duplicities"
   ]
  },
  {
   "cell_type": "code",
   "execution_count": 65,
   "metadata": {},
   "outputs": [
    {
     "name": "stdout",
     "output_type": "stream",
     "text": [
      "The number of duplicieies is 0\n"
     ]
    }
   ],
   "source": [
    "dupliticies = df.duplicated().sum()\n",
    "print('The number of duplicieies is', dupliticies)"
   ]
  },
  {
   "cell_type": "markdown",
   "metadata": {},
   "source": [
    "- missing or invali values"
   ]
  },
  {
   "cell_type": "code",
   "execution_count": 75,
   "metadata": {},
   "outputs": [],
   "source": [
    "invalid_spent = df[df['Total Spent'] != df['Quantity'] * df['Price Per Unit']]\n",
    "negative_values = df[(df['Total Spent']<0) | (df['Quantity']<0) | (df['Price Per Unit']<0)]"
   ]
  },
  {
   "cell_type": "code",
   "execution_count": 73,
   "metadata": {},
   "outputs": [
    {
     "name": "stdout",
     "output_type": "stream",
     "text": [
      "     Transaction ID      Item  Quantity  Price Per Unit  Total Spent  \\\n",
      "0       TXN_1961373    Coffee       2.0             2.0          2.0   \n",
      "1       TXN_4977031      Cake       4.0             3.0          4.0   \n",
      "3       TXN_7034554     Salad       2.0             5.0          2.0   \n",
      "4       TXN_3160411    Coffee       2.0             2.0          2.0   \n",
      "5       TXN_2602893  Smoothie       5.0             4.0          5.0   \n",
      "...             ...       ...       ...             ...          ...   \n",
      "9995    TXN_7672686    Coffee       2.0             2.0          2.0   \n",
      "9996    TXN_9659401       NaN       3.0             NaN          3.0   \n",
      "9997    TXN_5255387    Coffee       4.0             2.0          4.0   \n",
      "9998    TXN_7695629    Cookie       3.0             NaN          3.0   \n",
      "9999    TXN_6170729  Sandwich       3.0             4.0          3.0   \n",
      "\n",
      "      Payment Method  Location Transaction Date  \n",
      "0        Credit Card  Takeaway       2023-09-08  \n",
      "1               Cash  In-store       2023-05-16  \n",
      "3            UNKNOWN   UNKNOWN       2023-04-27  \n",
      "4     Digital Wallet  In-store       2023-06-11  \n",
      "5        Credit Card       NaN       2023-03-31  \n",
      "...              ...       ...              ...  \n",
      "9995             NaN   UNKNOWN       2023-08-30  \n",
      "9996  Digital Wallet       NaN       2023-06-02  \n",
      "9997  Digital Wallet       NaN       2023-03-02  \n",
      "9998  Digital Wallet       NaN       2023-12-02  \n",
      "9999            Cash  In-store       2023-11-07  \n",
      "\n",
      "[8911 rows x 8 columns]\n"
     ]
    }
   ],
   "source": [
    "print(invalid_spent)"
   ]
  },
  {
   "cell_type": "code",
   "execution_count": 74,
   "metadata": {},
   "outputs": [
    {
     "name": "stdout",
     "output_type": "stream",
     "text": [
      "Empty DataFrame\n",
      "Columns: [Transaction ID, Item, Quantity, Price Per Unit, Total Spent, Payment Method, Location, Transaction Date]\n",
      "Index: []\n"
     ]
    }
   ],
   "source": [
    "print(negative_values)"
   ]
  },
  {
   "cell_type": "markdown",
   "metadata": {},
   "source": [
    "### Revenue Distribution"
   ]
  },
  {
   "cell_type": "code",
   "execution_count": 67,
   "metadata": {},
   "outputs": [
    {
     "data": {
      "image/png": "[encoded data removed]",
      "text/plain": [
       "<Figure size 800x600 with 1 Axes>"
      ]
     },
     "metadata": {},
     "output_type": "display_data"
    },
    {
     "data": {
      "image/png": "[encoded data removed]",
      "text/plain": [
       "<Figure size 800x600 with 1 Axes>"
      ]
     },
     "metadata": {},
     "output_type": "display_data"
    }
   ],
   "source": [
    "plt.figure(figsize=(8, 6))\n",
    "sns.boxplot(df['Total Spent'])\n",
    "plt.title('Boxplot rozložení tržeb')\n",
    "plt.xlabel('Celkové tržby (Total Spent)')\n",
    "plt.show()\n",
    "\n",
    "plt.figure(figsize=(8, 6))\n",
    "sns.histplot(df['Total Spent'], bins=30, kde=True)\n",
    "plt.title('Histogram rozložení tržeb')\n",
    "plt.xlabel('Celkové tržby (Total Spent)')\n",
    "plt.ylabel('Počet transakcí')\n",
    "plt.show()\n"
   ]
  }
 ],
 "metadata": {
  "kernelspec": {
   "display_name": "cafe",
   "language": "python",
   "name": "python3"
  },
  "language_info": {
   "codemirror_mode": {
    "name": "ipython",
    "version": 3
   },
   "file_extension": ".py",
   "mimetype": "text/x-python",
   "name": "python",
   "nbconvert_exporter": "python",
   "pygments_lexer": "ipython3",
   "version": "3.12.8"
  },
  "orig_nbformat": 4
 },
 "nbformat": 4,
 "nbformat_minor": 2
}
